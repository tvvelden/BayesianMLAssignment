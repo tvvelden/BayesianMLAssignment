{
    "cells": [
        {
            "attachments": {},
            "cell_type": "markdown",
            "metadata": {},
            "source": [
                "# Plan van aanpak\n",
                "\n",
                "We willen radiation predicten\n",
                "\n",
                "## Vraag die we willen beantwoorden\n",
                "Welk model heeft beste accuracy?\n",
                "\n",
                "## Subvragen\n",
                "* Vergelijk modellen\n",
                "* alles tegenelkaar\n",
                "* bayesian vs non bayesian\n",
                "\n",
                "## Modellen die we willen maken\n",
                "* Linear Regression\n",
                "* Logistic Regression\n",
                "* Support Vector Regerssion (non bayesian)\n",
                "* Relevance Vector Regression (bayesian)\n",
                "* CNN\n",
                "* BCNN"
            ]
        },
        {
            "attachments": {},
            "cell_type": "markdown",
            "metadata": {},
            "source": [
                "# Import packages"
            ]
        },
        {
            "cell_type": "code",
            "execution_count": null,
            "metadata": {},
            "outputs": [],
            "source": [
                "# Clears entire notebook\n",
                "%reset -f\n",
                "\n",
                "showInfo = True;\n",
                "\n",
                "amountOfSamplesForPlot = 1000;"
            ]
        },
        {
            "cell_type": "code",
            "execution_count": null,
            "metadata": {},
            "outputs": [],
            "source": [
                "import numpy as np\n",
                "import pandas as pd\n",
                "import matplotlib.pyplot as plt\n",
                "import seaborn\n",
                "\n",
                "from sklearn.model_selection import train_test_split\n",
                "from sklearn.metrics import mean_absolute_error, mean_squared_error, r2_score, explained_variance_score, max_error, mean_absolute_percentage_error\n",
                "from sklearn import preprocessing\n",
                "\n",
                "\n",
                "from tabulate import tabulate"
            ]
        },
        {
            "attachments": {},
            "cell_type": "markdown",
            "metadata": {},
            "source": [
                "# Import Data"
            ]
        },
        {
            "cell_type": "code",
            "execution_count": null,
            "metadata": {},
            "outputs": [],
            "source": [
                "data = pd.read_csv(('./SolarPrediction.csv'))\n",
                "\n",
                "if (showInfo):\n",
                "    data.info()\n",
                "    data.describe()"
            ]
        },
        {
            "attachments": {},
            "cell_type": "markdown",
            "metadata": {},
            "source": [
                "## Clean data"
            ]
        },
        {
            "cell_type": "code",
            "execution_count": null,
            "metadata": {},
            "outputs": [],
            "source": [
                "data.isnull().sum()"
            ]
        },
        {
            "cell_type": "markdown",
            "metadata": {},
            "source": [
                "### Make separate columns of object types"
            ]
        },
        {
            "cell_type": "code",
            "execution_count": null,
            "metadata": {},
            "outputs": [],
            "source": [
                "# Make date of each element three columns and drop the Data object\n",
                "data['Year'] = pd.DatetimeIndex(data['Data']).year\n",
                "data['Month'] = pd.DatetimeIndex(data['Data']).month\n",
                "data['Day'] = pd.DatetimeIndex(data['Data']).day\n",
                "data.drop('Data', axis = 1, inplace=True)\n",
                "\n",
                "# Make time of each element three columns and drop the Time object\n",
                "data['Hour'] = pd.DatetimeIndex(data['Time']).hour\n",
                "data['Minute'] = pd.DatetimeIndex(data['Time']).minute\n",
                "data['Second'] = pd.DatetimeIndex(data['Time']).second\n",
                "data.drop('Time', axis = 1, inplace=True)\n",
                "\n",
                "# Make time of each element three columns and drop the TimeSunRise object\n",
                "data['SunRiseHour'] = pd.DatetimeIndex(data['TimeSunRise']).hour\n",
                "data['SunRiseMinute'] = pd.DatetimeIndex(data['TimeSunRise']).minute\n",
                "data['SunRiseSecond'] = pd.DatetimeIndex(data['TimeSunRise']).second\n",
                "data.drop('TimeSunRise', axis = 1, inplace=True)\n",
                "\n",
                "# Make time of each element three columns and drop the TimeSunSet object\n",
                "data['SunSetHour'] = pd.DatetimeIndex(data['TimeSunSet']).hour\n",
                "data['SunSetMinute'] = pd.DatetimeIndex(data['TimeSunSet']).minute\n",
                "data['SunSetSecond'] = pd.DatetimeIndex(data['TimeSunSet']).second\n",
                "data.drop('TimeSunSet', axis = 1, inplace=True)\n",
                "\n",
                "if (showInfo):\n",
                "    data.info()"
            ]
        },
        {
            "cell_type": "code",
            "execution_count": null,
            "metadata": {},
            "outputs": [],
            "source": [
                "fig = plt.figure(figsize=(20,10))\n",
                "fig.suptitle('Feature Correlation', fontsize=18)\n",
                "seaborn.heatmap(data.corr(), annot=True, cmap='RdBu')"
            ]
        },
        {
            "cell_type": "code",
            "execution_count": null,
            "metadata": {},
            "outputs": [],
            "source": [
                "data.corr()"
            ]
        },
        {
            "cell_type": "code",
            "execution_count": null,
            "metadata": {},
            "outputs": [],
            "source": [
                "data.describe()\n",
                "# Recognise that Year, SunRiseHour, SunRiseSecond, SunSetSecond have a standard deviation of 0 and are thus the same throughout the dataset\n",
                "# Therefore we can drop these variables as they contain no information in regards to the radiation"
            ]
        },
        {
            "cell_type": "code",
            "execution_count": null,
            "metadata": {},
            "outputs": [],
            "source": [
                "data.drop('Year', axis = 1, inplace=True)\n",
                "data.drop('SunRiseHour', axis = 1, inplace=True)\n",
                "data.drop('SunRiseSecond', axis = 1, inplace=True)\n",
                "data.drop('SunSetSecond', axis = 1, inplace=True)"
            ]
        },
        {
            "cell_type": "code",
            "execution_count": null,
            "metadata": {},
            "outputs": [],
            "source": [
                "fig = plt.figure(figsize=(20,10))\n",
                "fig.suptitle('Feature Correlation', fontsize=18)\n",
                "seaborn.heatmap(data.corr(), annot=True, cmap='RdBu')"
            ]
        },
        {
            "attachments": {},
            "cell_type": "markdown",
            "metadata": {},
            "source": [
                "## Daylight correction"
            ]
        },
        {
            "cell_type": "code",
            "execution_count": null,
            "metadata": {},
            "outputs": [],
            "source": [
                "# data = data[data.Hour > 5]\n",
                "# data = data[data.Hour < 19]\n",
                "\n",
                "data = data.sort_values(by=['UNIXTime'], ascending=True)"
            ]
        },
        {
            "attachments": {},
            "cell_type": "markdown",
            "metadata": {},
            "source": [
                "# Train test split"
            ]
        },
        {
            "cell_type": "code",
            "execution_count": null,
            "metadata": {},
            "outputs": [],
            "source": [
                "features = data.iloc[:,data.columns != 'Radiation' ]\n",
                "radiation = data.iloc[:, data.columns == 'Radiation']\n",
                "\n",
                "if showInfo:\n",
                "    features.info()\n",
                "    radiation.info()\n",
                "\n",
                "Xtrain, Xtest, Ytrain, Ytest = train_test_split(features, radiation, test_size = 0.10, shuffle=False)\n",
                "\n",
                "\n",
                "scalerX = preprocessing.StandardScaler().fit(Xtrain)\n",
                "scalerY = preprocessing.StandardScaler().fit(Ytrain)\n",
                "\n",
                "XtrainScaled = scalerX.transform(Xtrain)\n",
                "YtrainScaled = scalerY.transform(Ytrain)\n",
                "\n",
                "XtestScaled = scalerX.transform(Xtest)\n",
                "YtestScaled = scalerY.transform(Ytest)"
            ]
        },
        {
            "attachments": {},
            "cell_type": "markdown",
            "metadata": {},
            "source": [
                "# Modellen\n",
                "## Linear Regression"
            ]
        },
        {
            "cell_type": "code",
            "execution_count": null,
            "metadata": {},
            "outputs": [],
            "source": [
                "from sklearn.linear_model import LinearRegression\n",
                "\n",
                "linRegModel = LinearRegression();\n",
                "linRegModel.fit(XtrainScaled, YtrainScaled); \n",
                "\n",
                "if (showInfo):\n",
                "    plt.figure(figsize=(20,10))\n",
                "    plt.bar(features.columns, linRegModel.coef_[0])"
            ]
        },
        {
            "cell_type": "code",
            "execution_count": null,
            "metadata": {},
            "outputs": [],
            "source": [
                "linRegRadiationPredictions = scalerY.inverse_transform(linRegModel.predict(XtestScaled));\n"
            ]
        },
        {
            "cell_type": "code",
            "execution_count": null,
            "metadata": {},
            "outputs": [],
            "source": [
                "def calcMetrics(YTrue, YPredict):\n",
                "    MAE = mean_absolute_error(YTrue, YPredict);\n",
                "    MSE = mean_squared_error(YTrue, YPredict);\n",
                "    R2Score = r2_score(YTrue, YPredict);\n",
                "    EVS = mean_absolute_percentage_error(YTrue, YPredict);\n",
                "    MaxE = max_error(YTrue, YPredict);\n",
                "\n",
                "    return [MAE, MSE, R2Score, EVS, MaxE]"
            ]
        },
        {
            "cell_type": "code",
            "execution_count": null,
            "metadata": {},
            "outputs": [],
            "source": [
                "def printTestMetrics(YTrue, YPredict):\n",
                "    tableLabels = ['Mean Absolute Error', 'Mean Squared Error', 'R2 Score', 'MAPE', 'Max Error'];\n",
                "    tableValues = calcMetrics(YTrue, YPredict)\n",
                "    \n",
                "    print(tabulate([tableLabels, tableValues],headers='firstrow', tablefmt='fancy_grid'))\n"
            ]
        },
        {
            "cell_type": "code",
            "execution_count": null,
            "metadata": {},
            "outputs": [],
            "source": [
                "def plotPrediction(YTrue, YPredict):\n",
                "    plt.figure(figsize=(30,5))\n",
                "    plt.plot(np.arange(0,len(YTrue)), YTrue, label='True values')\n",
                "    plt.plot(np.arange(0,len(YTrue)), YPredict, label='Predictions')\n",
                "    plt.legend()"
            ]
        },
        {
            "cell_type": "code",
            "execution_count": null,
            "metadata": {},
            "outputs": [],
            "source": [
                "printTestMetrics(Ytest, linRegRadiationPredictions)\n",
                "plotPrediction(Ytest, linRegRadiationPredictions)\n",
                "\n"
            ]
        },
        {
            "cell_type": "code",
            "execution_count": null,
            "metadata": {},
            "outputs": [],
            "source": [
                "timeAxis = Xtest['UNIXTime'][0:100]\n",
                "plt.figure(figsize=(10,4))\n",
                "plt.plot(np.arange(0, len(Ytest)), Ytest, label=\"Ground Truth\")\n",
                "plt.plot(np.arange(0, len(Ytest)), linRegRadiationPredictions, label=\"Linear Regression\",)\n",
                "plt.legend(loc=\"upper right\")\n",
                "# np.arange(0, len(Ytest))\n",
                "plt.title(\"Non-Bayesian Linear Models\")\n",
                "plt.xlabel(\"Sample number\")\n",
                "plt.ylabel(\"Radiation\")"
            ]
        },
        {
            "attachments": {},
            "cell_type": "markdown",
            "metadata": {},
            "source": [
                "## Ridge Regression"
            ]
        },
        {
            "cell_type": "code",
            "execution_count": null,
            "metadata": {},
            "outputs": [],
            "source": [
                "from sklearn.linear_model import Ridge\n",
                "\n",
                "ridgeModel = Ridge();\n",
                "\n",
                "ridgeModel.fit(XtrainScaled, YtrainScaled)\n",
                "\n",
                "ridgeRadiationPredictions = scalerY.inverse_transform(ridgeModel.predict(XtestScaled))\n",
                "\n",
                "printTestMetrics(Ytest, ridgeRadiationPredictions);"
            ]
        },
        {
            "attachments": {},
            "cell_type": "markdown",
            "metadata": {},
            "source": [
                "## Bayesian Regression"
            ]
        },
        {
            "cell_type": "code",
            "execution_count": null,
            "metadata": {},
            "outputs": [],
            "source": [
                "from CompEx1Models import BayesianRegression\n",
                "\n",
                "bRegModel = BayesianRegression(alpha=1, beta=1);\n",
                "bRegModel.fit(XtrainScaled, np.ravel(YtrainScaled))\n",
                "\n",
                "predBReg, stdBReg = bRegModel.predict(XtestScaled, return_std=True)\n",
                "predBReg = (scalerY.inverse_transform(predBReg.reshape(-1,1)))\n",
                "stdBReg = (scalerY.inverse_transform(stdBReg.reshape(-1,1)))\n",
                "# predBReg = predBReg.reshape(-1,1)\n",
                "# stdBReg = stdBReg.reshape(-1,1)\n",
                "\n",
                "\n",
                "printTestMetrics(Ytest, predBReg)\n",
                "\n",
                "printTestMetrics(Ytest, np.zeros(Ytest.shape))\n",
                "\n"
            ]
        },
        {
            "attachments": {},
            "cell_type": "markdown",
            "metadata": {},
            "source": [
                "## Empirical Bayesian Regressian"
            ]
        },
        {
            "cell_type": "code",
            "execution_count": null,
            "metadata": {},
            "outputs": [],
            "source": [
                "from CompEx1Models import *\n",
                "\n",
                "bEmpRegModel = EmpiricalBayesRegression(alpha=1., beta=1.);\n",
                "bEmpRegModel.fit(XtrainScaled, np.ravel(YtrainScaled))\n",
                "\n",
                "\n",
                "predBEmpReg, stdBEmpReg = bEmpRegModel.predict(XtestScaled, return_std=True)\n",
                "print(stdBEmpReg.mean())\n",
                "predBEmpReg = (scalerY.inverse_transform(predBEmpReg.reshape(-1,1)))\n",
                "stdBEmpReg = (scalerY.inverse_transform(stdBEmpReg.reshape(-1,1)));\n",
                "\n",
                "printTestMetrics(Ytest, predBEmpReg)\n",
                "\n"
            ]
        },
        {
            "attachments": {},
            "cell_type": "markdown",
            "metadata": {},
            "source": [
                "## EM"
            ]
        },
        {
            "cell_type": "code",
            "execution_count": null,
            "metadata": {},
            "outputs": [],
            "source": [
                "from CompEx1Models import *\n",
                "\n",
                "EMModel = EM(alpha=1., beta=1.);\n",
                "EMModel.fit(XtrainScaled, np.ravel(YtrainScaled))\n",
                "\n",
                "predEM, stdEM = EMModel.predict(XtestScaled, return_std=True)\n",
                "predEM = (scalerY.inverse_transform(predEM.reshape(-1,1)))\n",
                "stdEM = (scalerY.inverse_transform(stdEM.reshape(-1,1)));\n",
                "\n",
                "printTestMetrics(Ytest, predEM)"
            ]
        },
        {
            "attachments": {},
            "cell_type": "markdown",
            "metadata": {},
            "source": [
                "## VB"
            ]
        },
        {
            "cell_type": "code",
            "execution_count": null,
            "metadata": {},
            "outputs": [],
            "source": [
                "from CompEx1Models import *\n",
                "\n",
                "VBModel = VB(alpha=1., beta=1.);\n",
                "VBModel.fit(XtrainScaled, np.ravel(YtrainScaled))\n",
                "\n",
                "predVB, stdVB = VBModel.predict(XtestScaled, return_std=True)\n",
                "predVB = (scalerY.inverse_transform(predVB.reshape(-1,1)))\n",
                "stdVB = (scalerY.inverse_transform(stdVB.reshape(-1,1)));\n",
                "\n",
                "printTestMetrics(Ytest, predVB)"
            ]
        },
        {
            "cell_type": "code",
            "execution_count": null,
            "metadata": {},
            "outputs": [],
            "source": [
                "## PLOTJES\n",
                "amountOfSamplesForPlot = 500\n",
                "\n",
                "timeAxis = Xtest['UNIXTime'][0:amountOfSamplesForPlot]\n",
                "timeAxis = np.arange(0, len(Ytest))[0:amountOfSamplesForPlot]\n",
                "\n",
                "fig, ((ax1, ax2), (ax3, ax4)) = plt.subplots(2,2, figsize=(10,8))\n",
                "ax1.plot(timeAxis, predBReg[0:amountOfSamplesForPlot], label=\"Prediction\")\n",
                "ax1.fill_between(timeAxis, np.ravel(predBReg[0:amountOfSamplesForPlot]-stdBReg[0:amountOfSamplesForPlot]), np.ravel(predBReg[0:amountOfSamplesForPlot]+stdBReg[0:amountOfSamplesForPlot]), alpha = 0.2, label = f\"std({stdBReg.mean()})\")\n",
                "ax1.plot(timeAxis, np.array(Ytest[0:amountOfSamplesForPlot]), color='red', label = \"True value\")\n",
                "ax1.legend(loc=\"upper right\")\n",
                "ax1.set_title(\"Bayesian\")\n",
                "\n",
                "ax2.plot(timeAxis, predBEmpReg[0:amountOfSamplesForPlot], label=\"Prediction\")\n",
                "ax2.fill_between(timeAxis, np.ravel(predBEmpReg[0:amountOfSamplesForPlot]-stdBEmpReg[0:amountOfSamplesForPlot]), np.ravel(predBEmpReg[0:amountOfSamplesForPlot]+stdBEmpReg[0:amountOfSamplesForPlot]), alpha = 0.2, label = f\"std({stdBEmpReg.mean()})\")\n",
                "ax2.plot(timeAxis, np.array(Ytest[0:amountOfSamplesForPlot]), color='red', label=\"True value\")\n",
                "ax2.legend(loc=\"upper right\")\n",
                "ax2.set_title(\"Empirical Bayesian\")\n",
                "\n",
                "\n",
                "ax3.plot(timeAxis, predEM[0:amountOfSamplesForPlot], label = \"Prediction\")\n",
                "ax3.fill_between(timeAxis, np.ravel(predEM[0:amountOfSamplesForPlot]-stdEM[0:amountOfSamplesForPlot]), np.ravel(predEM[0:amountOfSamplesForPlot]+stdEM[0:amountOfSamplesForPlot]), alpha = 0.2, label = f\"std({stdEM.mean()})\")\n",
                "ax3.plot(timeAxis, np.array(Ytest[0:amountOfSamplesForPlot]), color='red', label = \"True value\")\n",
                "ax3.legend(loc=\"upper right\")\n",
                "ax3.set_title(\"EM\")\n",
                "\n",
                "ax4.plot(timeAxis, predVB[0:amountOfSamplesForPlot], label=\"Prediction\")\n",
                "ax4.fill_between(timeAxis, np.ravel(predVB[0:amountOfSamplesForPlot]-stdVB[0:amountOfSamplesForPlot]), np.ravel(predVB[0:amountOfSamplesForPlot]+stdVB[0:amountOfSamplesForPlot]), alpha = 0.2, label=f\"std({stdVB.mean()})\")\n",
                "ax4.plot(timeAxis, np.array(Ytest[0:amountOfSamplesForPlot]), color='red', label=\"True value\")\n",
                "ax4.legend(loc=\"upper right\")\n",
                "ax4.set_title(\"VB\")\n",
                "\n",
                "fig.suptitle(\"Bayesian linear models\")\n",
                "\n"
            ]
        },
        {
            "attachments": {},
            "cell_type": "markdown",
            "metadata": {},
            "source": [
                "## Bayesian Ridge"
            ]
        },
        {
            "cell_type": "code",
            "execution_count": null,
            "metadata": {},
            "outputs": [],
            "source": [
                "from sklearn.linear_model import BayesianRidge\n",
                "\n",
                "bRidgeModel = BayesianRidge();\n",
                "\n",
                "bRidgeModel.fit(XtrainScaled, YtrainScaled)\n",
                "\n",
                "bRidgeRadiationPredictions = scalerY.inverse_transform(bRidgeModel.predict(XtestScaled).reshape(-1,1))\n",
                "\n",
                "printTestMetrics(Ytest, bRidgeRadiationPredictions);"
            ]
        },
        {
            "attachments": {},
            "cell_type": "markdown",
            "metadata": {},
            "source": [
                "## Lasso"
            ]
        },
        {
            "cell_type": "code",
            "execution_count": null,
            "metadata": {},
            "outputs": [],
            "source": [
                "from sklearn.linear_model import Lasso\n",
                "\n",
                "lassoModel = Lasso(alpha=.1);\n",
                "\n",
                "lassoModel.fit(XtrainScaled, YtrainScaled)\n",
                "\n",
                "lassoRadiationPredictions = scalerY.inverse_transform(lassoModel.predict(XtestScaled).reshape(-1,1))\n",
                "\n",
                "printTestMetrics(Ytest, lassoRadiationPredictions);"
            ]
        },
        {
            "cell_type": "code",
            "execution_count": null,
            "metadata": {},
            "outputs": [],
            "source": [
                "plt.figure(figsize=(10,4))\n",
                "plt.plot(np.arange(0, len(Ytest))[0:500], Ytest[0:500], label=\"Ground Truth\")\n",
                "plt.plot(np.arange(0, len(Ytest))[0:500], linRegRadiationPredictions[0:500], label=\"Linear Regression\", alpha = 1)\n",
                "plt.plot(np.arange(0, len(Ytest))[0:500], ridgeRadiationPredictions[0:500], label=\"Ridge Regression\", alpha = 0.8)\n",
                "plt.plot(np.arange(0, len(Ytest))[0:500], lassoRadiationPredictions[0:500], label=\"Lasso Regression\", alpha = 0.8)\n",
                "plt.legend(loc=\"upper right\")\n",
                "# np.arange(0, len(Ytest))\n",
                "plt.title(\"Non-Bayesian Linear Models\")\n",
                "plt.xlabel(\"Sample number\")\n",
                "plt.ylabel(\"Radiation\")"
            ]
        },
        {
            "attachments": {},
            "cell_type": "markdown",
            "metadata": {},
            "source": [
                "## KNN Regressor"
            ]
        },
        {
            "cell_type": "code",
            "execution_count": null,
            "metadata": {},
            "outputs": [],
            "source": [
                "from sklearn.neighbors import KNeighborsRegressor\n",
                "\n",
                "knnModel = KNeighborsRegressor();\n",
                "\n",
                "knnModel.fit(XtrainScaled, YtrainScaled)\n",
                "\n",
                "knnRadiationPredictions = scalerY.inverse_transform(knnModel.predict(XtestScaled).reshape(-1,1))\n",
                "\n",
                "printTestMetrics(Ytest, knnRadiationPredictions);"
            ]
        },
        {
            "attachments": {},
            "cell_type": "markdown",
            "metadata": {},
            "source": [
                "## SVR"
            ]
        },
        {
            "cell_type": "code",
            "execution_count": null,
            "metadata": {},
            "outputs": [],
            "source": [
                "from sklearn.svm import SVR\n",
                "\n",
                "svrModel = SVR(kernel='rbf');\n",
                "svrModel.fit(XtrainScaled, YtrainScaled); \n",
                "\n",
                "\n",
                "svrRadiationPredictions = scalerY.inverse_transform(svrModel.predict(XtestScaled).reshape(-1,1))\n",
                "\n",
                "printTestMetrics(Ytest, svrRadiationPredictions)\n",
                "plotPrediction(Ytest, svrRadiationPredictions)"
            ]
        },
        {
            "attachments": {},
            "cell_type": "markdown",
            "metadata": {},
            "source": [
                "## RVR"
            ]
        },
        {
            "attachments": {},
            "cell_type": "markdown",
            "metadata": {},
            "source": [
                "Due to extremely long computation times, RVR is not tested (yet)"
            ]
        },
        {
            "cell_type": "code",
            "execution_count": null,
            "metadata": {},
            "outputs": [],
            "source": [
                "# from sklearn_rvm import EMRVR\n",
                "\n",
                "# rvrModel = EMRVR(kernel='rbf', verbose=True);\n",
                "\n",
                "# rvrModel.fit(XtrainScaled, YtrainScaled); \n",
                "# rvrRadiationPredictions = rvrModel.predict(XtestScaled);\n",
                "# printTestMetrics(Ytest, scalerY.inverse_transform(svrRadiationPredictions))"
            ]
        },
        {
            "attachments": {},
            "cell_type": "markdown",
            "metadata": {},
            "source": [
                "## Decision Tree\n"
            ]
        },
        {
            "cell_type": "code",
            "execution_count": null,
            "metadata": {},
            "outputs": [],
            "source": [
                "from sklearn.tree import DecisionTreeRegressor\n",
                "\n",
                "decTreeModel = DecisionTreeRegressor();\n",
                "\n",
                "decTreeModel.fit(XtrainScaled, YtrainScaled);\n",
                "\n",
                "decTreeRadiationPredictions = scalerY.inverse_transform(decTreeModel.predict(XtestScaled).reshape(-1,1))\n",
                "printTestMetrics(Ytest, decTreeRadiationPredictions)\n",
                "plotPrediction(Ytest, decTreeRadiationPredictions)"
            ]
        },
        {
            "attachments": {},
            "cell_type": "markdown",
            "metadata": {},
            "source": [
                "## Random Forest"
            ]
        },
        {
            "cell_type": "code",
            "execution_count": null,
            "metadata": {},
            "outputs": [],
            "source": [
                "from sklearn.ensemble import RandomForestRegressor\n",
                "\n",
                "rndForestModel = RandomForestRegressor(min_samples_leaf=3,min_samples_split=6,max_depth=30,max_features=0.7);\n",
                "\n",
                "rndForestModel.fit(XtrainScaled, np.ravel(YtrainScaled))\n",
                "\n",
                "rndForestRadiationPredictions = scalerY.inverse_transform(rndForestModel.predict(XtestScaled).reshape(-1,1));\n",
                "printTestMetrics(Ytest, rndForestRadiationPredictions)\n",
                "plotPrediction(Ytest, rndForestRadiationPredictions)"
            ]
        },
        {
            "cell_type": "code",
            "execution_count": null,
            "metadata": {},
            "outputs": [],
            "source": [
                "plt.figure(figsize=(8,4))\n",
                "plt.bar(Xtrain.columns,rndForestModel.feature_importances_)\n",
                "plt.xticks(rotation=45,ha='right');"
            ]
        },
        {
            "attachments": {},
            "cell_type": "markdown",
            "metadata": {},
            "source": [
                "## Extra trees"
            ]
        },
        {
            "cell_type": "code",
            "execution_count": null,
            "metadata": {},
            "outputs": [],
            "source": [
                "from sklearn.ensemble import ExtraTreesRegressor\n",
                "\n",
                "xTreeModel = ExtraTreesRegressor();\n",
                "\n",
                "xTreeModel.fit(XtrainScaled, np.ravel(YtrainScaled))\n",
                "\n",
                "xTreeRadiationPredictions = scalerY.inverse_transform(xTreeModel.predict(XtestScaled).reshape(-1,1));\n",
                "printTestMetrics(Ytest, xTreeRadiationPredictions)\n",
                "plotPrediction(Ytest[-2000:-1], xTreeRadiationPredictions[-2000:-1])"
            ]
        },
        {
            "cell_type": "code",
            "execution_count": null,
            "metadata": {},
            "outputs": [],
            "source": [
                "plt.figure(figsize=(10,4))\n",
                "plotSamples = 500;\n",
                "plt.plot(np.arange(0, len(Ytest))[0:500], Ytest[0:500], label=\"Ground Truth\")\n",
                "plt.plot(np.arange(0, len(Ytest))[0:500], decTreeRadiationPredictions[0:500], label=\"Decision Tree\", alpha = 1)\n",
                "plt.plot(np.arange(0, len(Ytest))[0:500], rndForestRadiationPredictions[0:500], label=\"Random Forest\", alpha = 1)\n",
                "plt.plot(np.arange(0, len(Ytest))[0:500], xTreeRadiationPredictions[0:500], label=\"Extra Tree\", alpha = 1)\n",
                "plt.legend(loc=\"upper right\")\n",
                "# np.arange(0, len(Ytest))\n",
                "plt.title(\"Decision tree based models\")\n",
                "plt.xlabel(\"Sample number\")\n",
                "plt.ylabel(\"Radiation\")"
            ]
        },
        {
            "attachments": {},
            "cell_type": "markdown",
            "metadata": {},
            "source": [
                "## Neural Network"
            ]
        },
        {
            "cell_type": "code",
            "execution_count": null,
            "metadata": {},
            "outputs": [],
            "source": [
                "\n",
                "import tensorflow as tf\n",
                "import tensorflow_probability as tfp\n",
                "\n",
                "\n",
                "from tensorflow import keras\n",
                "\n",
                "from keras.models import Sequential\n",
                "from keras.layers import Dense, Dropout\n",
                "from keras import regularizers\n",
                "from keras.optimizers import Adam\n",
                "\n",
                "model = Sequential()\n",
                "model.add(Dense(256, activation='relu', kernel_initializer='normal', input_shape=(Xtrain.shape[1],), kernel_regularizer=regularizers.l2(l=0.01)))\n",
                "model.add(Dense(256, activation='relu', kernel_regularizer=regularizers.l2(l=0.01)))\n",
                "model.add(Dense(256, activation='relu', kernel_regularizer=regularizers.l2(l=0.01)))\n",
                "model.add(Dense(256, activation='relu', kernel_regularizer=regularizers.l2(l=0.01)))\n",
                "model.add(Dense(256, activation='relu', kernel_regularizer=regularizers.l2(l=0.01)))\n",
                "model.add(Dense(1, activation='linear'))\n",
                "\n",
                "model.compile(loss='mse', optimizer='adam', metrics=['mse', 'categorical_crossentropy'])\n",
                "\n",
                "\n"
            ]
        },
        {
            "cell_type": "code",
            "execution_count": null,
            "metadata": {},
            "outputs": [],
            "source": [
                "model.fit(XtrainScaled, YtrainScaled, epochs=10)\n",
                "neuralRadiationPredictions = scalerY.inverse_transform(model.predict(XtestScaled))\n",
                "printTestMetrics(Ytest, neuralRadiationPredictions)\n",
                "plotPrediction(Ytest, neuralRadiationPredictions)"
            ]
        },
        {
            "attachments": {},
            "cell_type": "markdown",
            "metadata": {},
            "source": [
                "## BCNN"
            ]
        },
        {
            "cell_type": "code",
            "execution_count": null,
            "metadata": {},
            "outputs": [],
            "source": [
                "# import tensorflow as tf\n",
                "# import tensorflow_probability as tfp\n",
                "# tfd = tfp.distributions\n",
                "# tfpl = tfp.layers\n",
                "\n",
                "# from tensorflow import keras\n",
                "\n",
                "# from keras.models import Sequential\n",
                "\n",
                "# from keras import regularizers\n",
                "# from keras.optimizers import Adam\n",
                "\n",
                "# kernel_divergence_fn=lambda q, p, _: tfp.distributions.kl_divergence(q, p) / (x_train.shape[0] *1.0)\n",
                "\n",
                "# def prior(kernel_size, bias_size, dtype=None):\n",
                "#     n = kernel_size + bias_size\n",
                "#     # Independent Normal Distribution\n",
                "#     return lambda t: tfd.Independent(\n",
                "#             tfd.Normal(loc=tf.zeros(n, dtype=dtype), scale=1),\n",
                "#             reinterpreted_batch_ndims=1\n",
                "#         )\n",
                "\n",
                "# def posterior(kernel_size, bias_size, dtype=None):\n",
                "#     n = kernel_size + bias_size\n",
                "#     return Sequential([\n",
                "#         tfpl.VariableLayer(tfpl.IndependentNormal.params_size(n), dtype=dtype),\n",
                "#         tfpl.IndependentNormal(n)\n",
                "#     ])\n",
                "\n",
                "\n",
                "# model = Sequential()\n",
                "# model.add(tfp.layers.DenseVariational(256, posterior, prior, activation='relu', input_shape=(Xtrain.shape[1],)))\n",
                "# model.add(tfp.layers.DenseVariational(256, posterior, prior, activation='relu'))\n",
                "# model.add(tfp.layers.DenseVariational(256, posterior, prior, activation='relu'))\n",
                "# model.add(tfp.layers.DenseVariational(256, posterior, prior, activation='relu'))\n",
                "# model.add(tfp.layers.DenseVariational(1, posterior, prior, activation='linear'))\n",
                "\n",
                "# model.compile(loss='mse', optimizer='adam', metrics=['mse'])"
            ]
        },
        {
            "cell_type": "code",
            "execution_count": null,
            "metadata": {},
            "outputs": [],
            "source": [
                "from keras.layers import Dropout,Dense,Input\n",
                "from keras import Sequential\n",
                "\n",
                "model_mc = Sequential()\n",
                "model_mc.add(Input((Xtrain.shape[1],)))\n",
                "model_mc.add(Dense(100, activation = 'relu'))\n",
                "model_mc.add(Dropout((0.3)))\n",
                "model_mc.add(Dense(100, activation = 'relu'))\n",
                "model_mc.add(Dropout((0.3)))\n",
                "model_mc.add(Dense(1, activation = 'linear'))\n",
                "\n",
                "\n",
                "model_mc.compile(loss='mse', optimizer=\"adam\", metrics=['mae'])\n",
                "model_mc.summary()"
            ]
        },
        {
            "cell_type": "code",
            "execution_count": null,
            "metadata": {},
            "outputs": [],
            "source": [
                "from keras.layers import Dropout,Dense,Input\n",
                "from keras import Sequential\n",
                "from keras import regularizers\n",
                "from keras.optimizers import Adam\n",
                "import keras\n",
                "\n",
                "\n",
                "inputLayer = Input(shape=(None, Xtrain.shape[1]))\n",
                "x = Dropout(0.3)(inputLayer)\n",
                "x = Dense(256, activation='relu', kernel_regularizer=regularizers.l2(l=0.01))(x, training=True)\n",
                "x = Dropout(0.3)(x)\n",
                "x = Dense(256, activation='relu', kernel_regularizer=regularizers.l2(l=0.01))(x, training=True)\n",
                "x = Dropout(0.3)(x)\n",
                "x = Dense(256, activation='relu', kernel_regularizer=regularizers.l2(l=0.01))(x, training=True)\n",
                "outputLayer = Dense(1, activation='linear')(x, training=True)\n",
                "\n",
                "model_dropout = keras.Model(inputLayer, outputLayer, name=\"Dropout_model\")\n",
                "model_dropout.compile(loss='mse', optimizer=\"adam\", metrics=['mae'])\n",
                "# model_dropout.summary()\n",
                "\n"
            ]
        },
        {
            "cell_type": "code",
            "execution_count": null,
            "metadata": {},
            "outputs": [],
            "source": []
        },
        {
            "cell_type": "code",
            "execution_count": null,
            "metadata": {},
            "outputs": [],
            "source": [
                "\n",
                "# import tensorflow.keras.backend as K\n",
                "# model_dropout_pred = K.function(\n",
                "#     [model_dropout.input, \n",
                "#     K.learning_phase()], \n",
                "#     [model_dropout.output])\n",
                "\n",
                "\n",
                "# model_mc.fit(XtrainScaled, YtrainScaled, epochs=10)"
            ]
        },
        {
            "cell_type": "code",
            "execution_count": null,
            "metadata": {},
            "outputs": [],
            "source": [
                "BneuralRadiationPredictions = scalerY.inverse_transform(model_mc.predict(XtestScaled))\n",
                "printTestMetrics(Ytest, BneuralRadiationPredictions)\n",
                "plotPrediction(Ytest, BneuralRadiationPredictions)"
            ]
        },
        {
            "cell_type": "code",
            "execution_count": null,
            "metadata": {},
            "outputs": [],
            "source": [
                "plt.figure(figsize=(10,4))\n",
                "plotSamples = 500;\n",
                "plt.plot(np.arange(0, len(Ytest))[0:500], Ytest[0:500], label=\"Ground Truth\")\n",
                "plt.plot(np.arange(0, len(Ytest))[0:500], neuralRadiationPredictions[0:500], label=\"CNN\", alpha = 1)\n",
                "plt.plot(np.arange(0, len(Ytest))[0:500], BneuralRadiationPredictions[0:500], label=\"CNN dropout\", alpha = 1)\n",
                "plt.legend(loc=\"upper right\")\n",
                "# np.arange(0, len(Ytest))\n",
                "plt.title(\"Neural network based models\")\n",
                "plt.xlabel(\"Sample number\")\n",
                "plt.ylabel(\"Radiation\")"
            ]
        },
        {
            "attachments": {},
            "cell_type": "markdown",
            "metadata": {},
            "source": [
                "## Gaussion Process Regressor"
            ]
        },
        {
            "cell_type": "code",
            "execution_count": null,
            "metadata": {},
            "outputs": [],
            "source": [
                "from sklearn.gaussian_process import GaussianProcessRegressor\n",
                "\n",
                "gprModel = GaussianProcessRegressor();\n",
                "\n",
                "gprModel.fit(XtrainScaled, YtrainScaled);\n"
            ]
        },
        {
            "cell_type": "code",
            "execution_count": null,
            "metadata": {},
            "outputs": [],
            "source": [
                "\n",
                "predGPR, stdGPR = gprModel.predict(XtestScaled, return_std=True)\n",
                "predGPR = scalerY.inverse_transform(predGPR.reshape(-1,1))\n",
                "stdGPR = scalerY.inverse_transform(stdGPR.reshape(-1,1))\n",
                "\n",
                "printTestMetrics(Ytest, predGPR)"
            ]
        },
        {
            "cell_type": "code",
            "execution_count": null,
            "metadata": {},
            "outputs": [],
            "source": [
                "plt.figure(figsize=(10,4))\n",
                "plotSamples = 500;\n",
                "plt.plot(np.arange(0, len(Ytest))[0:500], Ytest[0:500], label=\"Ground Truth\")\n",
                "plt.plot(np.arange(0, len(Ytest))[0:500], svrRadiationPredictions[0:500], label=\"SVR\", alpha = 1)\n",
                "plt.plot(np.arange(0, len(Ytest))[0:500], knnRadiationPredictions[0:500], label=\"KNN\", alpha = 1)\n",
                "plt.plot(np.arange(0, len(Ytest))[0:500], predGPR[0:500], label=\"GPR\", alpha = 1, color=\"darkred\")\n",
                "plt.fill_between(np.arange(0, len(Ytest))[0:500], np.ravel(predGPR[0:500]-stdGPR[0:500]), np.ravel(predGPR[0:500]+stdGPR[0:500]), alpha = 0.2, color=\"darkred\")\n",
                "plt.legend(loc=\"upper right\")\n",
                "# np.arange(0, len(Ytest))\n",
                "plt.title(\"Remaining models\")\n",
                "plt.xlabel(\"Sample number\")\n",
                "plt.ylabel(\"Radiation\")"
            ]
        },
        {
            "attachments": {},
            "cell_type": "markdown",
            "metadata": {},
            "source": [
                "# Comparison"
            ]
        },
        {
            "cell_type": "code",
            "execution_count": null,
            "metadata": {},
            "outputs": [],
            "source": [
                "table = [];\n",
                "tableColumns = ['Model', 'Mean Absolute Error', 'Mean Squared Error', 'R2 Score', 'Mean Absolute Percentage Error', 'Max Error']\n",
                "table.append(tableColumns)\n",
                "\n",
                "# Linear regression\n",
                "table.append([\"Linear Regression\"]+ calcMetrics(Ytest, linRegRadiationPredictions))\n",
                "\n",
                "# Ridge regression\n",
                "table.append([\"Ridge Regression\"]+ calcMetrics(Ytest, ridgeRadiationPredictions))\n",
                "\n",
                "# Bayesian  Ridge regression\n",
                "table.append([\"Bayes Ridge Regression\"]+ calcMetrics(Ytest, bRidgeRadiationPredictions))\n",
                "\n",
                "# Lasso regression\n",
                "table.append([\"Lasso Regression\"]+ calcMetrics(Ytest, lassoRadiationPredictions))\n",
                "\n",
                "# KNN regression\n",
                "table.append([\"KNN Regression\"]+ calcMetrics(Ytest, knnRadiationPredictions))\n",
                "\n",
                "# SVR\n",
                "table.append([\"SVR\"]+ calcMetrics(Ytest, svrRadiationPredictions))\n",
                "\n",
                "# Decision tree\n",
                "table.append([\"Decision Tree\"]+calcMetrics(Ytest, decTreeRadiationPredictions))\n",
                "\n",
                "# Random Forest\n",
                "table.append([\"Random Forest\"]+calcMetrics(Ytest, rndForestRadiationPredictions))\n",
                "\n",
                "# Extra Trees\n",
                "table.append([\"Extra Trees\"]+calcMetrics(Ytest, xTreeRadiationPredictions))\n",
                "\n",
                "# Neural Net\n",
                "table.append([\"Neural net\"]+ calcMetrics(Ytest, neuralRadiationPredictions))\n",
                "\n",
                "# Neural Net Dropout\n",
                "table.append([\"Neural net dropout\"]+ calcMetrics(Ytest, BneuralRadiationPredictions))\n",
                "\n",
                "# Gaussian Process Regressor\n",
                "table.append([\"Gaussian Process Regressor\"]+ calcMetrics(Ytest, predGPR))\n",
                "\n",
                "# Bayesian Regressor\n",
                "table.append([\"Bayesian Regressor\"]+ calcMetrics(Ytest, predBReg))\n",
                "\n",
                "# Empirical Bayesian Regressor\n",
                "table.append([\"Emp Bayesian Regressor\"]+ calcMetrics(Ytest, predBEmpReg))\n",
                "\n",
                "# EM  Regressor\n",
                "table.append([\"EM\"]+ calcMetrics(Ytest, predEM))\n",
                "\n",
                "# VB Regressor\n",
                "table.append([\"VB\"]+ calcMetrics(Ytest, predVB))\n",
                "\n",
                "print(tabulate(table, headers='firstrow', tablefmt='fancy_grid'))"
            ]
        },
        {
            "attachments": {},
            "cell_type": "markdown",
            "metadata": {},
            "source": [
                "### Linear Models"
            ]
        },
        {
            "cell_type": "code",
            "execution_count": null,
            "metadata": {},
            "outputs": [],
            "source": [
                "table = [];\n",
                "tableColumns = ['Model', 'Mean Absolute Error', 'Mean Squared Error', 'R2 Score', 'Mean Absolute Percentage Error', 'Max Error']\n",
                "table.append(tableColumns)\n",
                "\n",
                "# Linear regression\n",
                "table.append([\"Linear Regression\"]+ calcMetrics(Ytest, linRegRadiationPredictions))\n",
                "\n",
                "# Ridge regression\n",
                "table.append([\"Ridge Regression\"]+ calcMetrics(Ytest, ridgeRadiationPredictions))\n",
                "\n",
                "# Bayesian  Ridge regression\n",
                "table.append([\"Bayes Ridge Regression\"]+ calcMetrics(Ytest, bRidgeRadiationPredictions))\n",
                "\n",
                "# Lasso regression\n",
                "table.append([\"Lasso Regression\"]+ calcMetrics(Ytest, lassoRadiationPredictions))\n",
                "\n",
                "# Bayesian Regressor\n",
                "table.append([\"Bayesian Regressor\"]+ calcMetrics(Ytest, predBReg))\n",
                "\n",
                "# Empirical Bayesian Regressor\n",
                "table.append([\"Emp Bayesian Regressor\"]+ calcMetrics(Ytest, predBEmpReg))\n",
                "\n",
                "# EM  Regressor\n",
                "table.append([\"EM\"]+ calcMetrics(Ytest, predEM))\n",
                "\n",
                "# VB Regressor\n",
                "table.append([\"VB\"]+ calcMetrics(Ytest, predVB))\n",
                "\n",
                "print(tabulate(table, headers='firstrow', tablefmt='fancy_grid'))"
            ]
        },
        {
            "attachments": {},
            "cell_type": "markdown",
            "metadata": {},
            "source": [
                "### Tree based Models"
            ]
        },
        {
            "cell_type": "code",
            "execution_count": null,
            "metadata": {},
            "outputs": [],
            "source": [
                "table = [];\n",
                "tableColumns = ['Model', 'Mean Absolute Error', 'Mean Squared Error', 'R2 Score', 'Mean Absolute Percentage Error', 'Max Error']\n",
                "table.append(tableColumns)\n",
                "\n",
                "# Decision tree\n",
                "table.append([\"Decision Tree\"]+calcMetrics(Ytest, decTreeRadiationPredictions))\n",
                "\n",
                "# Random Forest\n",
                "table.append([\"Random Forest\"]+calcMetrics(Ytest, rndForestRadiationPredictions))\n",
                "\n",
                "# Extra Trees\n",
                "table.append([\"Extra Trees\"]+calcMetrics(Ytest, xTreeRadiationPredictions))\n",
                "\n",
                "print(tabulate(table, headers='firstrow', tablefmt='fancy_grid'))\n",
                "\n",
                "plotPrediction(Ytest, xTreeRadiationPredictions)"
            ]
        },
        {
            "cell_type": "code",
            "execution_count": null,
            "metadata": {},
            "outputs": [],
            "source": [
                "table = [];\n",
                "tableColumns = ['Model', 'Mean Absolute Error', 'Mean Squared Error', 'R2 Score', 'Mean Absolute Percentage Error', 'Max Error']\n",
                "table.append(tableColumns)\n",
                "\n",
                "# Neural Net\n",
                "table.append([\"Neural net\"]+ calcMetrics(Ytest, neuralRadiationPredictions))\n",
                "\n",
                "# Neural Net Dropout\n",
                "table.append([\"Neural net dropout\"]+ calcMetrics(Ytest, BneuralRadiationPredictions))\n",
                "\n",
                "print(tabulate(table, headers='firstrow', tablefmt='fancy_grid'))"
            ]
        },
        {
            "attachments": {},
            "cell_type": "markdown",
            "metadata": {},
            "source": [
                "# Data Analysis"
            ]
        },
        {
            "cell_type": "code",
            "execution_count": null,
            "metadata": {},
            "outputs": [],
            "source": [
                "plt.figure(figsize=(20,10))\n",
                "seaborn.lineplot(x=data[\"Temperature\"], y=data[\"Radiation\"])\n"
            ]
        },
        {
            "cell_type": "code",
            "execution_count": null,
            "metadata": {},
            "outputs": [],
            "source": []
        },
        {
            "cell_type": "code",
            "execution_count": null,
            "metadata": {},
            "outputs": [],
            "source": [
                "## Average radiation over hours\n",
                "radiationPerHour = data.groupby([pd.Grouper(key='Hour')])['Radiation']\n",
                "\n",
                "minRadiationPerHour = radiationPerHour.min()\n",
                "maxRadiationPerHour = radiationPerHour.max()\n",
                "meanRadiationPerHour = radiationPerHour.mean()\n",
                "stdRadiationPerHour = radiationPerHour.std()\n"
            ]
        },
        {
            "cell_type": "code",
            "execution_count": null,
            "metadata": {},
            "outputs": [],
            "source": [
                "## Average temperature over hours\n",
                "temperaturePerHour = data.groupby([pd.Grouper(key='Hour')])['Temperature']\n",
                "\n",
                "minTemperaturePerHour = temperaturePerHour.min()\n",
                "maxTemperaturePerHour = temperaturePerHour.max()\n",
                "meanTemperaturePerHour = temperaturePerHour.mean()\n",
                "stdTemperaturePerHour = temperaturePerHour.std()\n",
                "\n",
                "timeAxis = minTemperaturePerHour.index;\n",
                "plt.figure(figsize=(20,5))\n",
                "plt.subplot(1,2,1)\n",
                "plt.plot(timeAxis, meanRadiationPerHour, label = \"Mean\")\n",
                "plt.fill_between(timeAxis, minRadiationPerHour, maxRadiationPerHour, alpha=0.25, label=\"Min - Max\")\n",
                "plt.fill_between(timeAxis, meanRadiationPerHour-stdRadiationPerHour, meanRadiationPerHour+stdRadiationPerHour, alpha=0.5, label=\"STD\")\n",
                "plt.legend()\n",
                "plt.title(\"Radiation over Time\")\n",
                "plt.xlabel(\"Time of day [Hours]\")\n",
                "plt.ylabel(\"Radiation\")\n",
                "\n",
                "plt.subplot(1,2,2)\n",
                "plt.plot(timeAxis, meanTemperaturePerHour, label = \"Mean\")\n",
                "plt.fill_between(timeAxis, minTemperaturePerHour, maxTemperaturePerHour, alpha=0.25, label=\"Min - Max\")\n",
                "plt.fill_between(timeAxis, meanTemperaturePerHour-stdTemperaturePerHour, meanTemperaturePerHour+stdTemperaturePerHour, alpha=0.5, label=\"STD\")\n",
                "plt.title(\"Temperature over Time\")\n",
                "plt.xlabel(\"Time of day [Hours]\")\n",
                "plt.ylabel(\"Temperature\")\n",
                "\n",
                "plt.legend()"
            ]
        },
        {
            "cell_type": "code",
            "execution_count": null,
            "metadata": {},
            "outputs": [],
            "source": [
                "plt.figure(figsize=(10,5))\n",
                "plt.plot(meanRadiationPerHour, color='blue')\n",
                "plt.title(\"Radiation and temperature throughout the day\")\n",
                "plt.ylabel(\"Radiation\", color='blue')\n",
                "plt.xlabel(\"Time of day [Hours]\")\n",
                "plt.twinx()\n",
                "plt.plot(meanTemperaturePerHour, color='red')\n",
                "plt.ylabel(\"Temperature\", color='red')\n",
                "\n",
                "    "
            ]
        }
    ],
    "metadata": {
        "kernelspec": {
            "display_name": "Python 3",
            "language": "python",
            "name": "python3"
        },
        "language_info": {
            "codemirror_mode": {
                "name": "ipython",
                "version": 3
            },
            "file_extension": ".py",
            "mimetype": "text/x-python",
            "name": "python",
            "nbconvert_exporter": "python",
            "pygments_lexer": "ipython3",
            "version": "3.10.10"
        },
        "orig_nbformat": 4
    },
    "nbformat": 4,
    "nbformat_minor": 2
}
